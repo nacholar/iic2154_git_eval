{
 "cells": [
  {
   "cell_type": "code",
   "execution_count": null,
   "id": "a52d94a1",
   "metadata": {},
   "outputs": [],
   "source": [
    "import pandas as pd\n",
    "import re\n",
    "\n",
    "#Para la parte 4, la regex la saque de http://shahmirj.com/blog/extracting-twitter-usertags-using-regex\n",
    "\n",
    "tweets = pd.read_json('farmers-protest-tweets-2021-03-5.json', lines=True)"
   ]
  },
  {
   "cell_type": "code",
   "execution_count": null,
   "id": "8da4bc69",
   "metadata": {},
   "outputs": [],
   "source": [
    "def top10_tweets(tweets):\n",
    "    r = tweets.sort_values(by='retweetCount',ascending=False)[:10]\n",
    "    return r['content']"
   ]
  },
  {
   "cell_type": "code",
   "execution_count": null,
   "id": "aa993a8a",
   "metadata": {},
   "outputs": [],
   "source": [
    "def top10_users(tweets):\n",
    "    users = pd.json_normalize(tweets['user'])\n",
    "    r = users.groupby('username').count().sort_values(by='url', ascending=False)[:10]\n",
    "    return r['id']"
   ]
  },
  {
   "cell_type": "code",
   "execution_count": null,
   "id": "e58d4976",
   "metadata": {},
   "outputs": [],
   "source": [
    "def top10_days(tweets):\n",
    "    tweets['date'] = pd.to_datetime(tweets['date']).dt.date\n",
    "    r = tweets.groupby('date').count().sort_values(by='id', ascending=False)[:10]\n",
    "    return r['id']"
   ]
  },
  {
   "cell_type": "code",
   "execution_count": null,
   "id": "d4f190a4",
   "metadata": {},
   "outputs": [],
   "source": [
    "def top10_hashtags(tweets):\n",
    "    d = {}\n",
    "    for tweet in  tweets['content']:\n",
    "        hashtags = re.findall('(?<=^|(?<=[^a-zA-Z0-9-_\\\\.]))#([A-Za-z]+[A-Za-z0-9_]+)', tweet)\n",
    "        for hashtag in hashtags:\n",
    "            if hashtag not in d.keys():\n",
    "                d[hashtag] = 1\n",
    "            else:\n",
    "                d[hashtag] += 1\n",
    "    res = {key: val for key, val in sorted(d.items(), key = lambda ele: ele[1], reverse = True)}\n",
    "    return res"
   ]
  },
  {
   "cell_type": "code",
   "execution_count": null,
   "id": "4cd78b1e",
   "metadata": {},
   "outputs": [],
   "source": [
    "def main():\n",
    "    print(\"TOP 10 TWEETS:\")\n",
    "    print(top10_tweets(tweets))\n",
    "    print(\"=========================\")\n",
    "    print(\"TOP 10 USERS:\")\n",
    "    print(top10_users(tweets))\n",
    "    print(\"=========================\")\n",
    "    print(\"TOP 10 DAYS:\")\n",
    "    print(top10_days(tweets))\n",
    "    print(\"=========================\")\n",
    "    print(\"TOP 10 HASHTAGS:\")\n",
    "    h = top10_hashtags(tweets)\n",
    "    for x in list(h)[0:10]:\n",
    "        print (x)\n",
    "    print(\"=========================\")\n",
    "\n",
    "if __name__ == \"__main__\":\n",
    "    main()"
   ]
  }
 ],
 "metadata": {
  "kernelspec": {
   "display_name": "Python 3 (ipykernel)",
   "language": "python",
   "name": "python3"
  },
  "language_info": {
   "codemirror_mode": {
    "name": "ipython",
    "version": 3
   },
   "file_extension": ".py",
   "mimetype": "text/x-python",
   "name": "python",
   "nbconvert_exporter": "python",
   "pygments_lexer": "ipython3",
   "version": "3.10.3"
  }
 },
 "nbformat": 4,
 "nbformat_minor": 5
}
