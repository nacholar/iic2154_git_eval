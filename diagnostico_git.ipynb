{
 "cells": [
  {
   "cell_type": "code",
   "execution_count": null,
   "id": "a52d94a1",
   "metadata": {},
   "outputs": [],
   "source": [
    "import pandas as pd\n",
    "import re\n",
    "\n",
    "#Para la parte 4, la regex la saque de http://shahmirj.com/blog/extracting-twitter-usertags-using-regex\n",
    "\n",
    "tweets = pd.read_json('farmers-protest-tweets-2021-03-5.json', lines=True)"
   ]
  },
  {
   "cell_type": "code",
   "execution_count": null,
   "id": "8da4bc69",
   "metadata": {},
   "outputs": [],
   "source": [
    "def top10_tweets(tweets):\n",
    "    r = tweets.sort_values(by='retweetCount',ascending=False)[:10]\n",
    "    return r['content']"
   ]
  },
  {
   "cell_type": "code",
   "execution_count": null,
   "id": "aa993a8a",
   "metadata": {},
   "outputs": [],
   "source": [
    "def top10_users(tweets):\n",
    "    users = pd.json_normalize(tweets['user'])\n",
    "    r = users.groupby('username').count().sort_values(by='url', ascending=False)[:10]\n",
    "    return r['id']"
   ]
  }
 ],
 "metadata": {
  "kernelspec": {
   "display_name": "Python 3 (ipykernel)",
   "language": "python",
   "name": "python3"
  },
  "language_info": {
   "codemirror_mode": {
    "name": "ipython",
    "version": 3
   },
   "file_extension": ".py",
   "mimetype": "text/x-python",
   "name": "python",
   "nbconvert_exporter": "python",
   "pygments_lexer": "ipython3",
   "version": "3.10.3"
  }
 },
 "nbformat": 4,
 "nbformat_minor": 5
}
